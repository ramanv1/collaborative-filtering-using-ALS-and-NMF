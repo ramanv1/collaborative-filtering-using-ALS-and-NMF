{
 "cells": [
  {
   "cell_type": "markdown",
   "metadata": {},
   "source": [
    "## Collaborative filtering using Non-Negative Matrix Factorization (NMF)"
   ]
  },
  {
   "cell_type": "code",
   "execution_count": 2,
   "metadata": {},
   "outputs": [],
   "source": [
    "import pandas as pd\n",
    "import numpy as np\n",
    "from numpy.linalg import norm, solve\n",
    "import time\n",
    "import matplotlib.pyplot as plt\n",
    "import math"
   ]
  },
  {
   "cell_type": "markdown",
   "metadata": {},
   "source": [
    "### Download the Movielens Dataset"
   ]
  },
  {
   "cell_type": "code",
   "execution_count": 2,
   "metadata": {},
   "outputs": [
    {
     "name": "stdout",
     "output_type": "stream",
     "text": [
      "  % Total    % Received % Xferd  Average Speed   Time    Time     Time  Current\n",
      "                                 Dload  Upload   Total   Spent    Left  Speed\n",
      "100 4808k  100 4808k    0     0  4957k      0 --:--:-- --:--:-- --:--:-- 4952k\n",
      "Archive:  ml-100k.zip\n",
      "replace ml-100k/allbut.pl? [y]es, [n]o, [A]ll, [N]one, [r]ename: ^C\n"
     ]
    }
   ],
   "source": [
    "# !curl -O http://files.grouplens.org/datasets/movielens/ml-100k.zip\n",
    "# !unzip ml-100k.zip # if you dont have unzip: apt-get install unzip\n",
    "# !cd ml-100k/ml-100k"
   ]
  },
  {
   "cell_type": "markdown",
   "metadata": {},
   "source": [
    "### Create the Ratings Matrix"
   ]
  },
  {
   "cell_type": "code",
   "execution_count": 3,
   "metadata": {},
   "outputs": [
    {
     "data": {
      "text/html": [
       "<div>\n",
       "<style scoped>\n",
       "    .dataframe tbody tr th:only-of-type {\n",
       "        vertical-align: middle;\n",
       "    }\n",
       "\n",
       "    .dataframe tbody tr th {\n",
       "        vertical-align: top;\n",
       "    }\n",
       "\n",
       "    .dataframe thead th {\n",
       "        text-align: right;\n",
       "    }\n",
       "</style>\n",
       "<table border=\"1\" class=\"dataframe\">\n",
       "  <thead>\n",
       "    <tr style=\"text-align: right;\">\n",
       "      <th></th>\n",
       "      <th>user_id</th>\n",
       "      <th>item_id</th>\n",
       "      <th>rating</th>\n",
       "      <th>timestamp</th>\n",
       "    </tr>\n",
       "  </thead>\n",
       "  <tbody>\n",
       "    <tr>\n",
       "      <th>0</th>\n",
       "      <td>196</td>\n",
       "      <td>242</td>\n",
       "      <td>3</td>\n",
       "      <td>881250949</td>\n",
       "    </tr>\n",
       "    <tr>\n",
       "      <th>1</th>\n",
       "      <td>186</td>\n",
       "      <td>302</td>\n",
       "      <td>3</td>\n",
       "      <td>891717742</td>\n",
       "    </tr>\n",
       "    <tr>\n",
       "      <th>2</th>\n",
       "      <td>22</td>\n",
       "      <td>377</td>\n",
       "      <td>1</td>\n",
       "      <td>878887116</td>\n",
       "    </tr>\n",
       "    <tr>\n",
       "      <th>3</th>\n",
       "      <td>244</td>\n",
       "      <td>51</td>\n",
       "      <td>2</td>\n",
       "      <td>880606923</td>\n",
       "    </tr>\n",
       "    <tr>\n",
       "      <th>4</th>\n",
       "      <td>166</td>\n",
       "      <td>346</td>\n",
       "      <td>1</td>\n",
       "      <td>886397596</td>\n",
       "    </tr>\n",
       "  </tbody>\n",
       "</table>\n",
       "</div>"
      ],
      "text/plain": [
       "   user_id  item_id  rating  timestamp\n",
       "0      196      242       3  881250949\n",
       "1      186      302       3  891717742\n",
       "2       22      377       1  878887116\n",
       "3      244       51       2  880606923\n",
       "4      166      346       1  886397596"
      ]
     },
     "execution_count": 3,
     "metadata": {},
     "output_type": "execute_result"
    }
   ],
   "source": [
    "names = ['user_id', 'item_id', 'rating', 'timestamp']\n",
    "df = pd.read_csv(r\"./ml-100k/ml-100k/u.data\", sep='\\t', names=names)\n",
    "df.head()"
   ]
  },
  {
   "cell_type": "markdown",
   "metadata": {},
   "source": [
    "We see that there are 943 users and 1682 items"
   ]
  },
  {
   "cell_type": "code",
   "execution_count": 4,
   "metadata": {},
   "outputs": [
    {
     "name": "stdout",
     "output_type": "stream",
     "text": [
      "number of users = 943\n",
      "number of items = 1682\n"
     ]
    }
   ],
   "source": [
    "ratings_matrix = np.empty((df.user_id.nunique(), df.item_id.nunique())).astype(np.float32)\n",
    "for row in df.index:\n",
    "    ratings_matrix[df.iloc[row].user_id-1, df.iloc[row].item_id-1] = df.iloc[row].rating\n",
    "print ('number of users = {}'.format(df.user_id.nunique()))\n",
    "print ('number of items = {}'.format(df.item_id.nunique()))"
   ]
  },
  {
   "cell_type": "markdown",
   "metadata": {},
   "source": [
    "We see that the dataset contains many empty entries"
   ]
  },
  {
   "cell_type": "code",
   "execution_count": 5,
   "metadata": {},
   "outputs": [
    {
     "name": "stdout",
     "output_type": "stream",
     "text": [
      "Zero entries = 93.70%\n"
     ]
    }
   ],
   "source": [
    "zeroentries = (1-np.count_nonzero(ratings_matrix) /(ratings_matrix.shape[0]*ratings_matrix.shape[1]))*100\n",
    "print ('Zero entries = {:4.2f}%'.format(zeroentries))"
   ]
  },
  {
   "cell_type": "markdown",
   "metadata": {},
   "source": [
    "We see that most of the entries in the ratings matrices are zeros"
   ]
  },
  {
   "cell_type": "markdown",
   "metadata": {},
   "source": [
    "### We develop a simple class for performing ALS"
   ]
  },
  {
   "cell_type": "markdown",
   "metadata": {},
   "source": [
    "Our objective is to find $W$ and $H$ such that,\n",
    "$$ R \\approx WH$$\n",
    "where $R$ is the ratings matrix and $W$, and $H$ are the latent factor matrices for users and items respectively.\n",
    "\n",
    "We follow [1], and use the following multiplicative update rule:\n",
    "$$ H_{a \\mu} = H_{a \\mu} \\frac{(W^{T} R)_{a \\mu}} {(W^{T} W H)_{a \\mu}}$$\n",
    "and,\n",
    "$$ W_{ia} =  W_{ia} \\frac{(RH^{T})_{ia}}{(WHH^{T})_{ia}} $$\n",
    "\n",
    "This minimizes the Eucledian distance, $||R - WH||$. Strictly speaking, under this update rule the Eucledian distance is non-increasing. We can also employ another multiplicate update rule under which KL divergence (i.e. $D(R || WH)$ is non-increasing.\n",
    "\n",
    "\n",
    "[1] Lee, Daniel D., and H. Sebastian Seung. \"Algorithms for non-negative matrix factorization.\" Advances in neural information processing systems. 2001\n"
   ]
  },
  {
   "cell_type": "code",
   "execution_count": 44,
   "metadata": {},
   "outputs": [],
   "source": [
    "class NMF:\n",
    "    \n",
    "    def __init__(self):\n",
    "        \"\"\"\n",
    "            description: a simple class for performing\n",
    "                         matrix factorization using NMF\n",
    "        \"\"\"\n",
    "        self.n_factors = 0 # number of latent factors\n",
    "\n",
    "\n",
    "    def set_factors(self, n_factors):\n",
    "        \"\"\"\n",
    "            description: sets the number of latent factors\n",
    "        \"\"\"\n",
    "        self.n_factors = n_factors\n",
    "        return self\n",
    "\n",
    "    def set_initial_factor_matrices(self, nusers, nitems):\n",
    "        \"\"\"\n",
    "            description: sets the initial latent-factor matrices\n",
    "        \"\"\"\n",
    "        self.W = np.random.random((nusers, self.n_factors)).astype(np.float32)\n",
    "        self.H = np.random.random((self.n_factors, nitems)).astype(np.float32)\n",
    "        return self\n",
    "        \n",
    "    def get_n_factors(self):\n",
    "        \"\"\"\n",
    "            description: gets the number of latent factors\n",
    "        \"\"\"\n",
    "        return self.n_factors\n",
    "   \n",
    "    \n",
    "    def get_factor_matrices(self):\n",
    "        \"\"\"\n",
    "            description: gets user and item latent\n",
    "                         factor matrices\n",
    "        \"\"\"\n",
    "        return self.W, self.H\n",
    "    \n",
    "    def get_loss(self, R):\n",
    "        \"\"\"\n",
    "            description: gets the MSE loss\n",
    "        \"\"\"\n",
    "        return norm(R - np.matmul(self.W, self.H))\n",
    "    \n",
    "    \n",
    "    def update(self, R):\n",
    "        \"\"\"\n",
    "            description: updates matrices W, H\n",
    "        \"\"\"\n",
    "        # update H\n",
    "        nr = np.matmul(self.W.T, R) \n",
    "        dr = np.matmul(np.matmul(self.W.T, self.W), self.H) \n",
    "        self.H = self.H * np.divide (nr, dr)\n",
    "        \n",
    "        #update W\n",
    "        nr = np.matmul(R, self.H.T)\n",
    "        dr = np.matmul(np.matmul(self.W, self.H), self.H.T)\n",
    "        self.W = self.W * np.divide (nr, dr)\n",
    "        \n",
    "    "
   ]
  },
  {
   "cell_type": "code",
   "execution_count": 45,
   "metadata": {},
   "outputs": [
    {
     "name": "stdout",
     "output_type": "stream",
     "text": [
      "Time taken for the run = 9504.56 s\n"
     ]
    }
   ],
   "source": [
    "# number of latent factors\n",
    "n_factors = 40\n",
    "\n",
    "# construct the NMF object\n",
    "nmf = NMF().set_factors(n_factors)\\\n",
    "           .set_initial_factor_matrices(ratings_matrix.shape[0], ratings_matrix.shape[1])\n",
    "\n",
    "#set epochs\n",
    "epochs = 1000\n",
    "W_norm = []\n",
    "H_norm = []\n",
    "L = []\n",
    "\n",
    "# training\n",
    "W, H = nmf.get_factor_matrices()\n",
    "t0 = time.time()\n",
    "\n",
    "for i in range(epochs):\n",
    " \n",
    "    # update W, H\n",
    "    nmf.update(ratings_matrix)\n",
    "    \n",
    "    W_new, H_new = nmf.get_factor_matrices()\n",
    "    \n",
    "    # gather stats for loss\n",
    "    L.append(nmf.get_loss(ratings_matrix))\n",
    "    W_norm.append(norm((W_new - W)))\n",
    "    H_norm.append(norm((H_new - H)))\n",
    "    \n",
    "    W, H = W_new, H_new\n",
    "\n",
    "print(\"Time taken for the run = {:5.2f} s\".format(time.time()-t0))"
   ]
  },
  {
   "cell_type": "markdown",
   "metadata": {},
   "source": [
    "### We plot the MSE loss function as well the convergence of factor matrices (W, H)"
   ]
  },
  {
   "cell_type": "code",
   "execution_count": 64,
   "metadata": {},
   "outputs": [
    {
     "data": {
      "image/png": "[encoded data removed]",
      "text/plain": [
       "<Figure size 432x288 with 1 Axes>"
      ]
     },
     "metadata": {
      "needs_background": "light"
     },
     "output_type": "display_data"
    }
   ],
   "source": [
    "plt.plot(np.log(W_norm), 'o', np.log(H_norm),'s')\n",
    "plt.xlabel('# iterations')\n",
    "plt.ylabel('$Log ||W_{n+1} - W_{n}||_{2}$', fontsize=20)\n",
    "plt.legend(['W','H'])\n",
    "plt.show()"
   ]
  },
  {
   "cell_type": "code",
   "execution_count": 61,
   "metadata": {},
   "outputs": [
    {
     "data": {
      "image/png": "[encoded data removed]",
      "text/plain": [
       "<Figure size 432x288 with 1 Axes>"
      ]
     },
     "metadata": {
      "needs_background": "light"
     },
     "output_type": "display_data"
    }
   ],
   "source": [
    "mseL = np.array(L)/(ratings_matrix.shape[0]*ratings_matrix.shape[1])\n",
    "plt.plot(mseL, 'o')\n",
    "plt.xlabel('# iterations')\n",
    "plt.ylabel('$||R - WH||_{2}$', fontsize=20)\n",
    "plt.show()"
   ]
  },
  {
   "cell_type": "markdown",
   "metadata": {},
   "source": [
    "## "
   ]
  }
 ],
 "metadata": {
  "kernelspec": {
   "display_name": "Python 3",
   "language": "python",
   "name": "python3"
  },
  "language_info": {
   "codemirror_mode": {
    "name": "ipython",
    "version": 3
   },
   "file_extension": ".py",
   "mimetype": "text/x-python",
   "name": "python",
   "nbconvert_exporter": "python",
   "pygments_lexer": "ipython3",
   "version": "3.6.9"
  }
 },
 "nbformat": 4,
 "nbformat_minor": 4
}
