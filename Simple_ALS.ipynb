{
 "cells": [
  {
   "cell_type": "markdown",
   "metadata": {},
   "source": [
    "## Collaborative filtering using Alternating Least Squares (ALS)"
   ]
  },
  {
   "cell_type": "code",
   "execution_count": 1,
   "metadata": {},
   "outputs": [],
   "source": [
    "import pandas as pd\n",
    "import numpy as np\n",
    "from numpy.linalg import norm, solve\n",
    "import time\n",
    "import matplotlib.pyplot as plt\n",
    "import math"
   ]
  },
  {
   "cell_type": "markdown",
   "metadata": {},
   "source": [
    "### Download the Movielens Dataset"
   ]
  },
  {
   "cell_type": "code",
   "execution_count": 2,
   "metadata": {},
   "outputs": [
    {
     "name": "stdout",
     "output_type": "stream",
     "text": [
      "  % Total    % Received % Xferd  Average Speed   Time    Time     Time  Current\n",
      "                                 Dload  Upload   Total   Spent    Left  Speed\n",
      "100 4808k  100 4808k    0     0  4957k      0 --:--:-- --:--:-- --:--:-- 4952k\n",
      "Archive:  ml-100k.zip\n",
      "replace ml-100k/allbut.pl? [y]es, [n]o, [A]ll, [N]one, [r]ename: ^C\n"
     ]
    }
   ],
   "source": [
    "# !curl -O http://files.grouplens.org/datasets/movielens/ml-100k.zip\n",
    "# !unzip ml-100k.zip # if you dont have unzip: apt-get install unzip\n",
    "# !cd ml-100k/ml-100k"
   ]
  },
  {
   "cell_type": "markdown",
   "metadata": {},
   "source": [
    "### Create the Ratings Matrix"
   ]
  },
  {
   "cell_type": "code",
   "execution_count": 2,
   "metadata": {},
   "outputs": [
    {
     "data": {
      "text/html": [
       "<div>\n",
       "<style scoped>\n",
       "    .dataframe tbody tr th:only-of-type {\n",
       "        vertical-align: middle;\n",
       "    }\n",
       "\n",
       "    .dataframe tbody tr th {\n",
       "        vertical-align: top;\n",
       "    }\n",
       "\n",
       "    .dataframe thead th {\n",
       "        text-align: right;\n",
       "    }\n",
       "</style>\n",
       "<table border=\"1\" class=\"dataframe\">\n",
       "  <thead>\n",
       "    <tr style=\"text-align: right;\">\n",
       "      <th></th>\n",
       "      <th>user_id</th>\n",
       "      <th>item_id</th>\n",
       "      <th>rating</th>\n",
       "      <th>timestamp</th>\n",
       "    </tr>\n",
       "  </thead>\n",
       "  <tbody>\n",
       "    <tr>\n",
       "      <th>0</th>\n",
       "      <td>196</td>\n",
       "      <td>242</td>\n",
       "      <td>3</td>\n",
       "      <td>881250949</td>\n",
       "    </tr>\n",
       "    <tr>\n",
       "      <th>1</th>\n",
       "      <td>186</td>\n",
       "      <td>302</td>\n",
       "      <td>3</td>\n",
       "      <td>891717742</td>\n",
       "    </tr>\n",
       "    <tr>\n",
       "      <th>2</th>\n",
       "      <td>22</td>\n",
       "      <td>377</td>\n",
       "      <td>1</td>\n",
       "      <td>878887116</td>\n",
       "    </tr>\n",
       "    <tr>\n",
       "      <th>3</th>\n",
       "      <td>244</td>\n",
       "      <td>51</td>\n",
       "      <td>2</td>\n",
       "      <td>880606923</td>\n",
       "    </tr>\n",
       "    <tr>\n",
       "      <th>4</th>\n",
       "      <td>166</td>\n",
       "      <td>346</td>\n",
       "      <td>1</td>\n",
       "      <td>886397596</td>\n",
       "    </tr>\n",
       "  </tbody>\n",
       "</table>\n",
       "</div>"
      ],
      "text/plain": [
       "   user_id  item_id  rating  timestamp\n",
       "0      196      242       3  881250949\n",
       "1      186      302       3  891717742\n",
       "2       22      377       1  878887116\n",
       "3      244       51       2  880606923\n",
       "4      166      346       1  886397596"
      ]
     },
     "execution_count": 2,
     "metadata": {},
     "output_type": "execute_result"
    }
   ],
   "source": [
    "names = ['user_id', 'item_id', 'rating', 'timestamp']\n",
    "df = pd.read_csv(r\"./ml-100k/ml-100k/u.data\", sep='\\t', names=names)\n",
    "df.head()"
   ]
  },
  {
   "cell_type": "markdown",
   "metadata": {},
   "source": [
    "We see that there are 943 users and 1682 items"
   ]
  },
  {
   "cell_type": "code",
   "execution_count": 3,
   "metadata": {},
   "outputs": [
    {
     "name": "stdout",
     "output_type": "stream",
     "text": [
      "number of users = 943\n",
      "number of items = 1682\n"
     ]
    }
   ],
   "source": [
    "ratings_matrix = np.empty((df.user_id.nunique(), df.item_id.nunique())).astype(np.float32)\n",
    "for row in df.index:\n",
    "    ratings_matrix[df.iloc[row].user_id-1, df.iloc[row].item_id-1] = df.iloc[row].rating\n",
    "print ('number of users = {}'.format(df.user_id.nunique()))\n",
    "print ('number of items = {}'.format(df.item_id.nunique()))"
   ]
  },
  {
   "cell_type": "markdown",
   "metadata": {},
   "source": [
    "We see that the dataset contains many empty entries"
   ]
  },
  {
   "cell_type": "code",
   "execution_count": 5,
   "metadata": {},
   "outputs": [
    {
     "name": "stdout",
     "output_type": "stream",
     "text": [
      "Zero entries = 93.70%\n"
     ]
    }
   ],
   "source": [
    "zeroentries = (1-np.count_nonzero(ratings_matrix) /(ratings_matrix.shape[0]*ratings_matrix.shape[1]))*100\n",
    "print ('Zero entries = {:4.2f}%'.format(zeroentries))"
   ]
  },
  {
   "cell_type": "markdown",
   "metadata": {},
   "source": [
    "We see that most of the entries in the ratings matrices are zeros"
   ]
  },
  {
   "cell_type": "markdown",
   "metadata": {},
   "source": [
    "### We develop a simple class for performing ALS"
   ]
  },
  {
   "cell_type": "markdown",
   "metadata": {},
   "source": [
    "We minimize,\n",
    "$$L = || R - U^{T} V||_{2}^{2} + \\lambda_{1}||U||_{2}^{2} + \\lambda_{2}||V||_{2}^{2}$$\n",
    "w.r.t $U$ and $V$,\n",
    "\n",
    "We first fix $U$ and solve for $V$ by setting $\\frac{\\partial L}{\\partial V} = 0$, we obtain\n",
    "$$V = (UU^{T} + \\lambda_{1}I)^{-1}UR$$\n",
    "Similarly, we obtain $U$,\n",
    "$$U = (VV^T + \\lambda_{2}I)^{-1}VR^T$$\n",
    "\n"
   ]
  },
  {
   "cell_type": "code",
   "execution_count": 12,
   "metadata": {},
   "outputs": [],
   "source": [
    "class ALS:\n",
    "    \n",
    "    def __init__(self):\n",
    "        \"\"\"\n",
    "            description: a simple class for performing\n",
    "                         matrix factorization using alternating\n",
    "                         least squares\n",
    "                         this makes use of numpy.linalg.solve\n",
    "        \"\"\"\n",
    "        self.n_factors = 0 # number of latent factors\n",
    "        self.user_reg = 0.0 # regularization parameter for user latent matrix\n",
    "        self.item_reg = 0.0 # regularization parameter for item latent matrix\n",
    "\n",
    "\n",
    "    def set_factors(self, n_factors):\n",
    "        \"\"\"\n",
    "            description: sets the number of latent factors\n",
    "        \"\"\"\n",
    "        self.n_factors = n_factors\n",
    "        return self\n",
    "    \n",
    "    def set_user_reg_param(self, user_reg):\n",
    "        \"\"\"\n",
    "            description: sets the regularization parameter\n",
    "                         for user latent-factor matrix\n",
    "        \"\"\"\n",
    "        self.user_reg = user_reg\n",
    "        self.user_regmat = self.user_reg*np.eye(self.n_factors)\n",
    "        return self\n",
    "    \n",
    "    def set_item_reg_param(self, item_reg):\n",
    "         \"\"\"\n",
    "            description: sets the regularization parameter\n",
    "                         for item latent-ffactor matrix\n",
    "        \"\"\"\n",
    "        self.item_reg = item_reg\n",
    "        self.item_regmat = self.item_reg*np.eye(self.n_factors)\n",
    "        return self\n",
    "    \n",
    "    def set_initial_factor_matrices(self, nusers, nitems):\n",
    "        \"\"\"\n",
    "            description: sets the initial latent-factor matrices\n",
    "        \"\"\"\n",
    "        self.U = np.random.random((self.n_factors, nusers)).astype(np.float32)\n",
    "        self.V = np.random.random((self.n_factors, nitems)).astype(np.float32)\n",
    "        return self\n",
    "        \n",
    "    def get_n_factors(self):\n",
    "        \"\"\"\n",
    "            description: gets the number of latent factors\n",
    "        \"\"\"\n",
    "        return self.n_factors\n",
    "    \n",
    "    def get_user_reg_param(self):\n",
    "        \"\"\"\n",
    "            description: gets the regularization parameter\n",
    "                         for user latent factor matrix\n",
    "        \"\"\"\n",
    "        return self.user_reg\n",
    "    \n",
    "    def get_item_reg_param(self):\n",
    "         \"\"\"\n",
    "            description: gets the regularization parameter\n",
    "                         for item latent factor matrix\n",
    "        \"\"\"\n",
    "        return self.item_reg\n",
    "    \n",
    "    def get_factor_matrices(self):\n",
    "         \"\"\"\n",
    "            description: gets user and item latent\n",
    "                         factor matrices\n",
    "        \"\"\"\n",
    "        return self.U, self.V\n",
    "    \n",
    "    def get_loss(self, ratings):\n",
    "         \"\"\"\n",
    "            description: gets the MSE loss\n",
    "        \"\"\"\n",
    "        return norm(ratings - np.matmul(self.U.T, self.V) + \n",
    "               self.user_reg*norm(self.U) + self.item_reg*norm(self.V))\n",
    "    \n",
    "    def solve_latent_vectors(self, ratings, case):\n",
    "         \"\"\"\n",
    "            description: performs alternating least squares \n",
    "                         matrix factorization\n",
    "        \"\"\"\n",
    "        if(case == 'user'):    \n",
    "            \n",
    "            # items matrix fixed (i.e. V is fixed)\n",
    "            rhs = np.matmul(self.V, ratings.T)\n",
    "            self.U = solve((np.matmul(self.V, self.V.T) + self.user_regmat), rhs)\n",
    "\n",
    "        elif(case == 'item'):\n",
    "        \n",
    "            # users matrix fixed (i.e. U is fixed)\n",
    "            rhs = np.matmul(self.U, ratings)\n",
    "            self.V = solve((np.matmul(self.U, self.U.T) + self.item_regmat), rhs)\n",
    "            "
   ]
  },
  {
   "cell_type": "code",
   "execution_count": 15,
   "metadata": {},
   "outputs": [
    {
     "name": "stdout",
     "output_type": "stream",
     "text": [
      "Time taken for the run = 49.22 s\n"
     ]
    }
   ],
   "source": [
    "# number of latent factors\n",
    "n_factors = 40\n",
    "\n",
    "# construct the ALS object\n",
    "als = ALS().set_factors(n_factors)\\\n",
    "           .set_user_reg_param(0.1)\\\n",
    "           .set_item_reg_param(0.1)\\\n",
    "           .set_initial_factor_matrices(ratings_matrix.shape[0], ratings_matrix.shape[1])\n",
    "\n",
    "#set epochs\n",
    "epochs = 1000\n",
    "U_norm = []\n",
    "V_norm = []\n",
    "L = []\n",
    "\n",
    "# training\n",
    "U, V = als.get_factor_matrices()\n",
    "t0 = time.time()\n",
    "\n",
    "for i in range(epochs):\n",
    " \n",
    "    # update U\n",
    "    als.solve_latent_vectors(ratings_matrix, 'user')\n",
    "    \n",
    "    #update V\n",
    "    als.solve_latent_vectors(ratings_matrix, 'item')\n",
    "\n",
    "    U_new, V_new = als.get_factor_matrices()\n",
    "    \n",
    "    # gather stats for loss\n",
    "    L.append(als.get_loss(ratings_matrix))\n",
    "    U_norm.append(norm((U_new - U)))\n",
    "    V_norm.append(norm((V_new - V)))\n",
    "    \n",
    "    U, V = U_new, V_new\n",
    "\n",
    "print(\"Time taken for the run = {:5.2f} s\".format(time.time()-t0))"
   ]
  },
  {
   "cell_type": "markdown",
   "metadata": {},
   "source": [
    "### We plot the MSE loss function as well the convergence of factor matrices (U, V)"
   ]
  },
  {
   "cell_type": "code",
   "execution_count": 19,
   "metadata": {},
   "outputs": [
    {
     "data": {
      "image/png": "[encoded data removed]",
      "text/plain": [
       "<Figure size 432x288 with 1 Axes>"
      ]
     },
     "metadata": {
      "needs_background": "light"
     },
     "output_type": "display_data"
    }
   ],
   "source": [
    "plt.plot(np.log(U_norm), 'o', np.log(V_norm),'s')\n",
    "plt.xlabel('# iterations')\n",
    "plt.ylabel('Log ||U_new - U||')\n",
    "plt.legend(['U','V'])\n",
    "plt.show()"
   ]
  },
  {
   "cell_type": "code",
   "execution_count": 18,
   "metadata": {},
   "outputs": [
    {
     "data": {
      "image/png": "[encoded data removed]",
      "text/plain": [
       "<Figure size 432x288 with 1 Axes>"
      ]
     },
     "metadata": {
      "needs_background": "light"
     },
     "output_type": "display_data"
    }
   ],
   "source": [
    "plt.plot(np.array(L)/(ratings_matrix.shape[0]*ratings_matrix.shape[1]), 'o')\n",
    "plt.xlabel('# iterations')\n",
    "plt.ylabel('Loss (MSE)')\n",
    "plt.show()"
   ]
  },
  {
   "cell_type": "markdown",
   "metadata": {},
   "source": [
    "## "
   ]
  }
 ],
 "metadata": {
  "kernelspec": {
   "display_name": "Python 3",
   "language": "python",
   "name": "python3"
  },
  "language_info": {
   "codemirror_mode": {
    "name": "ipython",
    "version": 3
   },
   "file_extension": ".py",
   "mimetype": "text/x-python",
   "name": "python",
   "nbconvert_exporter": "python",
   "pygments_lexer": "ipython3",
   "version": "3.6.9"
  }
 },
 "nbformat": 4,
 "nbformat_minor": 4
}
